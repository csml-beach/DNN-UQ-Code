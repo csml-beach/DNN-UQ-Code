{
  "nbformat": 4,
  "nbformat_minor": 0,
  "metadata": {
    "colab": {
      "provenance": []
    },
    "kernelspec": {
      "name": "python3",
      "display_name": "Python 3"
    },
    "language_info": {
      "name": "python"
    }
  },
  "cells": [
    {
      "cell_type": "code",
      "execution_count": 31,
      "metadata": {
        "id": "Uo1f3HL8c25M"
      },
      "outputs": [],
      "source": [
        "import matplotlib.pyplot as plt\n",
        "import csv\n",
        "import statistics"
      ]
    },
    {
      "cell_type": "markdown",
      "source": [
        "#Box Plot of All five models with their test errors"
      ],
      "metadata": {
        "id": "RZ7z9gdDe2ZC"
      }
    },
    {
      "cell_type": "code",
      "source": [
        "\n",
        "# Specify the name of the CSV file and the column you want to read\n",
        "file_name = \"results_snn.csv\"\n",
        "column_name = \"Mean Squared Testing Error\"\n",
        "\n",
        "# Create an empty list to store the values from the column\n",
        "snn_test = []\n",
        "\n",
        "# Open the CSV file and read the values from the specified column\n",
        "with open(file_name, 'r') as file:\n",
        "    csv_reader = csv.DictReader(file)\n",
        "    for row in csv_reader:\n",
        "        snn_test.append(row[column_name])\n",
        "# Convert the strings to floats using a list comprehension\n",
        "snn_test = [float(item) for item in snn_test]\n",
        "# Now, column_values contains the values from the specified column as a list\n",
        "print(snn_test)\n",
        "\n",
        "# Calculate the mean\n",
        "mean_snn = statistics.mean(snn_test)\n",
        "print('Mean of Simple NN: ', mean_snn)\n",
        "# Calculate the standard deviation\n",
        "std_dev_snn = statistics.stdev(snn_test)\n",
        "print('Standard Deviation of SimpleNN: ',std_dev_snn)"
      ],
      "metadata": {
        "colab": {
          "base_uri": "https://localhost:8080/"
        },
        "id": "06ySVjjudCzg",
        "outputId": "0e6e6f32-9ea1-40cd-ff13-5c1ccd738465"
      },
      "execution_count": 36,
      "outputs": [
        {
          "output_type": "stream",
          "name": "stdout",
          "text": [
            "[0.1470042077394632, 0.15008404922599977, 0.16423936704030404, 0.1446573410469752, 0.13926263497425959, 0.1373197344633249, 0.147422209668618, 0.14145866695504922, 0.14915524509090644, 0.15040754440885323]\n",
            "Mean of Simple NN:  0.14710110006137536\n",
            "Standard Deviation of SimpleNN:  0.007548424586564627\n"
          ]
        }
      ]
    },
    {
      "cell_type": "code",
      "source": [
        "\n",
        "# Specify the name of the CSV file and the column you want to read\n",
        "file_name = \"results_donn.csv\"\n",
        "column_name = \"Mean Squared Testing Error\"\n",
        "\n",
        "# Create an empty list to store the values from the column\n",
        "donn_test = []\n",
        "\n",
        "# Open the CSV file and read the values from the specified column\n",
        "with open(file_name, 'r') as file:\n",
        "    csv_reader = csv.DictReader(file)\n",
        "    for row in csv_reader:\n",
        "        donn_test.append(row[column_name])\n",
        "# Convert the strings to floats using a list comprehension\n",
        "donn_test = [float(item) for item in donn_test]\n",
        "# Now, column_values contains the values from the specified column as a list\n",
        "print(donn_test)\n",
        "\n",
        "# Calculate the mean\n",
        "mean_donn = statistics.mean(donn_test)\n",
        "print('Mean of Deep Operator NN: ', mean_donn)\n",
        "# Calculate the standard deviation\n",
        "std_dev_donn = statistics.stdev(donn_test)\n",
        "print('Standard Deviation of Deep Operator NN: ',std_dev_donn)\n"
      ],
      "metadata": {
        "colab": {
          "base_uri": "https://localhost:8080/"
        },
        "id": "dEGYsPdFd5wH",
        "outputId": "9b7ca4af-1a9b-4150-8023-3c57cb84d54b"
      },
      "execution_count": 37,
      "outputs": [
        {
          "output_type": "stream",
          "name": "stdout",
          "text": [
            "[0.13677894897185838, 0.14930948958947107, 0.13995325622650293, 0.1435430611555393, 0.14437492277759773, 0.15397142618894577, 0.1444649690618882, 0.13620292810866466, 0.1391631645651964, 0.14865273982286453]\n",
            "Mean of Deep Operator NN:  0.1436414906468529\n",
            "Standard Deviation of Deep Operator NN:  0.005785588368094399\n"
          ]
        }
      ]
    },
    {
      "cell_type": "code",
      "source": [
        "\n",
        "# Specify the name of the CSV file and the column you want to read\n",
        "file_name = \"results_bnn.csv\"\n",
        "column_name = \"Testing MSE\"\n",
        "\n",
        "# Create an empty list to store the values from the column\n",
        "bnn_test = []\n",
        "\n",
        "# Open the CSV file and read the values from the specified column\n",
        "with open(file_name, 'r') as file:\n",
        "    csv_reader = csv.DictReader(file)\n",
        "    for row in csv_reader:\n",
        "        bnn_test.append(row[column_name])\n",
        "# Convert the strings to floats using a list comprehension\n",
        "bnn_test = [float(item) for item in bnn_test]\n",
        "# Now, column_values contains the values from the specified column as a list\n",
        "print(bnn_test)\n",
        "\n",
        "# Calculate the mean\n",
        "mean_bnn = statistics.mean(bnn_test)\n",
        "print('Mean of Bayesian NN: ', mean_bnn)\n",
        "# Calculate the standard deviation\n",
        "std_dev_bnn = statistics.stdev(bnn_test)\n",
        "print('Standard Deviation of Bayesian NN: ',std_dev_bnn)\n"
      ],
      "metadata": {
        "colab": {
          "base_uri": "https://localhost:8080/"
        },
        "id": "HBBn05lic-V6",
        "outputId": "4b508f6e-ee9e-410a-816a-bd6d0ea8511d"
      },
      "execution_count": 34,
      "outputs": [
        {
          "output_type": "stream",
          "name": "stdout",
          "text": [
            "[0.35739839650117433, 0.3678227227467757, 0.3494105614148654, 0.3459728406025813, 0.34462873064554655, 0.36235491587565494, 0.34923712565348697, 0.3486303251523238, 0.3426191909955098, 0.353470109976255]\n",
            "Mean of Bayesian NN:  0.35215449195641735\n",
            "Standard Deviation of Bayesian NN:  0.008117219582055923\n"
          ]
        }
      ]
    },
    {
      "cell_type": "code",
      "source": [
        "\n",
        "# Specify the name of the CSV file and the column you want to read\n",
        "file_name = \"results_mcdnn.csv\"\n",
        "column_name = \"Testing MSE\"\n",
        "\n",
        "# Create an empty list to store the values from the column\n",
        "mcdnn_test = []\n",
        "\n",
        "# Open the CSV file and read the values from the specified column\n",
        "with open(file_name, 'r') as file:\n",
        "    csv_reader = csv.DictReader(file)\n",
        "    for row in csv_reader:\n",
        "        mcdnn_test.append(row[column_name])\n",
        "# Convert the strings to floats using a list comprehension\n",
        "mcdnn_test = [float(item) for item in mcdnn_test]\n",
        "# Now, column_values contains the values from the specified column as a list\n",
        "print(mcdnn_test)\n",
        "\n",
        "# Calculate the mean\n",
        "mean_mcdnn = statistics.mean(mcdnn_test)\n",
        "print('Mean of Monte Carlo Dropout NN: ', mean_mcdnn)\n",
        "# Calculate the standard deviation\n",
        "std_dev_mcdnn = statistics.stdev(mcdnn_test)\n",
        "print('Standard Deviation of Monte Carlo Dropout NN: ',std_dev_mcdnn)"
      ],
      "metadata": {
        "colab": {
          "base_uri": "https://localhost:8080/"
        },
        "id": "QsbVZhyAeW6T",
        "outputId": "b21760c6-7d32-4ef2-e380-548eb40a1725"
      },
      "execution_count": 32,
      "outputs": [
        {
          "output_type": "stream",
          "name": "stdout",
          "text": [
            "[0.16573534103540274, 0.2492988986464647, 0.18286377993913797, 0.2659337360125322, 0.19145027146889612, 0.20980188307853845, 0.19331145859681642, 0.19930349233058783, 0.17461737531882066, 0.1569657729795346]\n",
            "Mean of Monte Carlo Dropout NN:  0.19892820094067318\n",
            "Standard Deviation of Monte Carlo Dropout NN:  0.0348719676050908\n"
          ]
        }
      ]
    },
    {
      "cell_type": "code",
      "source": [
        "\n",
        "# Specify the name of the CSV file and the column you want to read\n",
        "file_name = \"results_de.csv\"\n",
        "column_name = \"Mean Squared Testing Error\"\n",
        "\n",
        "# Create an empty list to store the values from the column\n",
        "denn_test = []\n",
        "\n",
        "# Open the CSV file and read the values from the specified column\n",
        "with open(file_name, 'r') as file:\n",
        "    csv_reader = csv.DictReader(file)\n",
        "    for row in csv_reader:\n",
        "        denn_test.append(row[column_name])\n",
        "# Convert the strings to floats using a list comprehension\n",
        "denn_test = [float(item) for item in denn_test]\n",
        "# Now, column_values contains the values from the specified column as a list\n",
        "print(denn_test)\n",
        "\n",
        "# Calculate the mean\n",
        "mean_denn = statistics.mean(denn_test)\n",
        "print('Mean of Deep Ensembles ',mean_denn)\n",
        "# Calculate the standard deviation\n",
        "std_dev_denn = statistics.stdev(denn_test)\n",
        "print('Standard Deviation of Deep Ensembles ',std_dev_denn)\n"
      ],
      "metadata": {
        "colab": {
          "base_uri": "https://localhost:8080/"
        },
        "id": "j0opZVusejL2",
        "outputId": "bb5903cd-3a0f-43a9-d4d3-b7c4188d3415"
      },
      "execution_count": 33,
      "outputs": [
        {
          "output_type": "stream",
          "name": "stdout",
          "text": [
            "[0.15999457927850577, 0.16055839909957006, 0.1444887054654268, 0.18026391989909685, 0.15121552090232188, 0.14814566878172067, 0.14732359578976265, 0.16667811343303093, 0.14580686333087775, 0.14248289683690438]\n",
            "Mean of Deep Ensembles  0.15469582628172177\n",
            "Standard Deviation of Deep Ensembles  0.012025300432967087\n"
          ]
        }
      ]
    },
    {
      "cell_type": "code",
      "source": [
        "# Create a figure and axis\n",
        "fig, ax = plt.subplots(figsize=(12, 6))\n",
        "\n",
        "# Create box plots for each dataset\n",
        "box_plot_data = [snn_test,donn_test,bnn_test,mcdnn_test,denn_test]\n",
        "box_labels = ['Simple NN', 'Deep Operator NN', 'Baysean NN', 'Monte Carlo dropout NN','Deep Ensemble']\n",
        "\n",
        "ax.boxplot(box_plot_data, labels=box_labels)\n",
        "\n",
        "# Add labels and title\n",
        "\n",
        "ax.set_ylabel('Mean Square Errors on Testing Set')\n",
        "ax.set_title('Training Error of Various NNs based on 10 different executions')\n",
        "\n",
        "# Show the plot\n",
        "plt.show()"
      ],
      "metadata": {
        "colab": {
          "base_uri": "https://localhost:8080/",
          "height": 460
        },
        "id": "sZ7M0PROeUiC",
        "outputId": "ff5419ff-2f72-4de6-e4d3-553b35507ce5"
      },
      "execution_count": 30,
      "outputs": [
        {
          "output_type": "display_data",
          "data": {
            "text/plain": [
              "<Figure size 1200x600 with 1 Axes>"
            ],
            "image/png": "[encoded data removed]"
          },
          "metadata": {}
        }
      ]
    }
  ]
}